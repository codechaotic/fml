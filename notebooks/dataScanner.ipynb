{
 "cells": [
  {
   "cell_type": "code",
   "execution_count": 1,
   "metadata": {},
   "outputs": [],
   "source": [
    "import os\n",
    "from PIL import Image"
   ]
  },
  {
   "cell_type": "code",
   "execution_count": 2,
   "metadata": {},
   "outputs": [],
   "source": [
    "datadir = \"/data/\""
   ]
  },
  {
   "cell_type": "code",
   "execution_count": 3,
   "metadata": {},
   "outputs": [
    {
     "name": "stderr",
     "output_type": "stream",
     "text": [
      "/usr/local/lib/python3.6/dist-packages/PIL/TiffImagePlugin.py:785: UserWarning: Corrupt EXIF data.  Expecting to read 4 bytes but only got 0. \n",
      "  warnings.warn(str(msg))\n"
     ]
    },
    {
     "name": "stdout",
     "output_type": "stream",
     "text": [
      "cannot identify image file '/data/kjl2190.jpg'\n",
      "cannot identify image file '/data/kjl2189.jpg'\n",
      "cannot identify image file '/data/kjl2193.jpg'\n",
      "cannot identify image file '/data/kjl2192.jpg'\n",
      "cannot identify image file '/data/Rocket T Coyote16511.jpg'\n",
      "cannot identify image file '/data/Rocket T Coyote16514.jpg'\n",
      "cannot identify image file '/data/kjl2191.jpg'\n"
     ]
    }
   ],
   "source": [
    "count = 0\n",
    "countSquare = 0\n",
    "countFailed = 0\n",
    "resolutions = set()\n",
    "\n",
    "for root, dirs, files in os.walk(datadir):\n",
    "    for filename in files:\n",
    "        try:\n",
    "            img = Image.open(datadir+filename)\n",
    "            [width, height] = img.size\n",
    "            resolutions.add((width, height))\n",
    "            count += 1\n",
    "            if (width == height):\n",
    "                countSquare += 1\n",
    "        except Exception as e:\n",
    "            print(e)\n",
    "            countFailed += 1"
   ]
  },
  {
   "cell_type": "code",
   "execution_count": 5,
   "metadata": {},
   "outputs": [
    {
     "name": "stdout",
     "output_type": "stream",
     "text": [
      "Images 9632\n",
      "Square 122\n",
      "Failed 7\n"
     ]
    }
   ],
   "source": [
    "print(\"Images %s\" %(count))\n",
    "print(\"Square %s\" %(countSquare))\n",
    "print(\"Failed %s\" %(countFailed))"
   ]
  },
  {
   "cell_type": "code",
   "execution_count": null,
   "metadata": {},
   "outputs": [],
   "source": []
  }
 ],
 "metadata": {
  "kernelspec": {
   "display_name": "Python 3",
   "language": "python",
   "name": "python3"
  },
  "language_info": {
   "codemirror_mode": {
    "name": "ipython",
    "version": 3
   },
   "file_extension": ".py",
   "mimetype": "text/x-python",
   "name": "python",
   "nbconvert_exporter": "python",
   "pygments_lexer": "ipython3",
   "version": "3.6.9"
  }
 },
 "nbformat": 4,
 "nbformat_minor": 2
}
